{
 "cells": [
  {
   "cell_type": "markdown",
   "id": "ccb9f2c1",
   "metadata": {},
   "source": [
    "# Crustal Thickness Calculation using Airy Isostasy\n",
    "\n",
    "This notebook processes paleotopography NetCDF files to compute crustal thickness using the Airy isostasy model. It reads elevation data, applies the isostasy formula, and saves the results in new NetCDF files.\n"
   ]
  },
  {
   "cell_type": "code",
   "execution_count": null,
   "id": "97c59c31",
   "metadata": {},
   "outputs": [],
   "source": [
    "import xarray as xr\n",
    "import os\n",
    "import re"
   ]
  },
  {
   "cell_type": "markdown",
   "id": "ebbb3847",
   "metadata": {},
   "source": [
    "## Define Input and Output Directories\n",
    "\n",
    "Specify the directories for input NetCDF files and output processed files.\n"
   ]
  },
  {
   "cell_type": "code",
   "execution_count": null,
   "id": "58cc4d60",
   "metadata": {},
   "outputs": [],
   "source": [
    "input_dir = \"STELLAR-Phase4A-Paleotopography-Merged-PMAG\"\n",
    "output_dir = \"CrustalThickness_P4a_airy_PMAG\"\n",
    "os.makedirs(output_dir, exist_ok=True)\n",
    "print(\"Input dir:\", input_dir)\n",
    "print(\"Output dir:\", output_dir)"
   ]
  },
  {
   "cell_type": "markdown",
   "id": "eba6803d",
   "metadata": {},
   "source": [
    "## Constants\n",
    "\n",
    "Define constants used in the Airy isostasy calculation.\n"
   ]
  },
  {
   "cell_type": "code",
   "execution_count": null,
   "id": "0c094ce4",
   "metadata": {},
   "outputs": [],
   "source": [
    "RHO_M = 3300  # Mantle density in kg/m³\n",
    "RHO_C = 2700  # Crust density in kg/m³\n",
    "H0 = 35000    # Reference crustal thickness in meters"
   ]
  },
  {
   "cell_type": "markdown",
   "id": "c859767e",
   "metadata": {},
   "source": [
    "## Conversion Function\n",
    "\n",
    "Function to convert elevation to crustal thickness using the Airy isostasy model.\n"
   ]
  },
  {
   "cell_type": "code",
   "execution_count": null,
   "id": "2db21a41",
   "metadata": {},
   "outputs": [],
   "source": [
    "def convert_elevation_to_thickness(elevation):\n",
    "    \"\"\"Convert elevation (m) to crustal thickness (m) using Airy isostasy.\"\"\"\n",
    "    return H0 + (elevation * RHO_M) / (RHO_M - RHO_C)"
   ]
  },
  {
   "cell_type": "markdown",
   "id": "704c43fb",
   "metadata": {},
   "source": [
    "## NetCDF Processing Function\n",
    "\n",
    "Function to load a NetCDF file, compute crustal thickness, and save the result.\n"
   ]
  },
  {
   "cell_type": "code",
   "execution_count": null,
   "id": "1519b896",
   "metadata": {},
   "outputs": [],
   "source": [
    "def process_netcdf_file(filename):\n",
    "    \"\"\"Load NetCDF, convert elevation to crustal thickness, and save new NetCDF.\"\"\"\n",
    "    ds = xr.open_dataset(filename)\n",
    "    elevation = ds[\"z\"]\n",
    "    crust_thickness = convert_elevation_to_thickness(elevation)\n",
    "\n",
    "    thickness_ds = xr.Dataset(\n",
    "        {\"z\": (elevation.dims, crust_thickness.data)},\n",
    "        coords=elevation.coords,\n",
    "        attrs={\"description\": \"Crustal thickness derived from paleoelevation using Airy isostasy\"}\n",
    "    )\n",
    "\n",
    "    thickness_ds[\"z\"].attrs = {\n",
    "        \"units\": \"m\",\n",
    "        \"long_name\": \"Crustal Thickness\"\n",
    "    }\n",
    "\n",
    "    age = re.search(r\"(\\d+)Ma\", filename).group(1)\n",
    "    out_filename = os.path.join(output_dir, f\"crustal_thickness_{age}Ma.nc\")\n",
    "\n",
    "    encoding = {\n",
    "        \"z\": {\n",
    "            \"zlib\": True,\n",
    "            \"complevel\": 1,\n",
    "            \"shuffle\": True\n",
    "        }\n",
    "    }\n",
    "\n",
    "    thickness_ds.to_netcdf(out_filename, encoding=encoding)\n",
    "    print(f\"Saved: {out_filename}\")"
   ]
  },
  {
   "cell_type": "markdown",
   "id": "635f4559",
   "metadata": {},
   "source": [
    "## Batch Processing\n",
    "\n",
    "Process all matching NetCDF files in the input directory.\n"
   ]
  },
  {
   "cell_type": "code",
   "execution_count": null,
   "id": "edfa7bf6",
   "metadata": {},
   "outputs": [],
   "source": [
    "for file in os.listdir(input_dir):\n",
    "    if file.startswith(\"paleotopography_spliced_\") and file.endswith(\".nc\"):\n",
    "        process_netcdf_file(os.path.join(input_dir, file))"
   ]
  }
 ],
 "metadata": {},
 "nbformat": 4,
 "nbformat_minor": 5
}
